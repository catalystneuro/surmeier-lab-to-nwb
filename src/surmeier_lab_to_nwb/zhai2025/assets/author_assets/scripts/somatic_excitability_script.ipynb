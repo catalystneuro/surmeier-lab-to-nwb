{
 "cells": [
  {
   "cell_type": "code",
   "execution_count": 1,
   "metadata": {},
   "outputs": [],
   "source": [
    "\"\"\" Module for importing PraireView5.0+ generated .csv files.\"\"\"\n",
    "import os\n",
    "from glob import glob\n",
    "\n",
    "import matplotlib.pyplot as plt\n",
    "import pandas as pd\n",
    "from lxml import etree\n",
    "\n",
    "%matplotlib inline"
   ]
  },
  {
   "cell_type": "code",
   "execution_count": null,
   "metadata": {
    "collapsed": true
   },
   "outputs": [],
   "source": [
    "def _get_ephys_vals(element):\n",
    "    ch_type = element.find('.//PatchclampChannel').text\n",
    "\n",
    "    if ch_type == '0':\n",
    "        unit = element.find('.//UnitName').text\n",
    "        divisor = float(element.find('.//Divisor').text)\n",
    "\n",
    "        return 'primary', {'unit': unit, 'divisor': divisor}\n",
    "\n",
    "    elif ch_type == '1':\n",
    "        unit = element.find('.//UnitName').text\n",
    "        divisor = float(element.find('.//Divisor').text)\n",
    "\n",
    "        return 'secondary', {'unit': unit, 'divisor': divisor}\n",
    "    \n",
    "    \n",
    "def parse_xml(filename):\n",
    "    tree = etree.parse(filename)\n",
    "    # find all elements associated with enabled channels\n",
    "    enabled_ch = tree.xpath('.//Enabled[text()=\"true\"]')\n",
    "\n",
    "    file_attr = {}\n",
    "    ch_names = []\n",
    "    for ch in enabled_ch:\n",
    "        parent = ch.getparent()\n",
    "        if parent.find('.//Type').text == 'Physical':\n",
    "            clamp_device = parent.find('.//PatchclampDevice').text\n",
    "\n",
    "            if clamp_device is not None:\n",
    "                name, ephys_vals = _get_ephys_vals(parent)\n",
    "                file_attr[name] = ephys_vals\n",
    "\n",
    "            else:\n",
    "                name = parent.find('.//Name').text\n",
    "\n",
    "            ch_names.append(name.capitalize())\n",
    "\n",
    "    file_attr['channels'] = ch_names\n",
    "    # gets sampling rate\n",
    "    file_attr['sampling'] = int((tree.find('.//Rate')).text)\n",
    "    # gets recording time, converts to sec\n",
    "    file_attr['duration'] = (int((tree.find('.//AcquisitionTime')).text))#/1000\n",
    "\n",
    "    # finds the voltage recording csv file name\n",
    "    datafile = (tree.find('.//DataFile')).text\n",
    "    # finds the linescan profile file name (if doesn't exist, will be None)\n",
    "    ls_file = (tree.find('.//AssociatedLinescanProfileFile')).text\n",
    "\n",
    "    # If ls_file is none this could mean that there is no linescan associated\n",
    "    # with that voltage recording file or that the file passed to parse_vr is\n",
    "    # actually a LineScan data file and therefore should be passed to ls_file.\n",
    "    # In that scenario there is no voltage recording file, so vo_file is None\n",
    "    if ls_file is None:\n",
    "        if \"LineScan\" in datafile:\n",
    "            ls_file = datafile\n",
    "            vo_file = None\n",
    "        elif \"LineScan\" not in datafile:\n",
    "            vo_file = datafile\n",
    "    else:\n",
    "        vo_file = datafile\n",
    "\n",
    "    file_attr['voltage recording file'] = vo_file\n",
    "    file_attr['linescan file'] = ls_file\n",
    "\n",
    "    return file_attr\n",
    "\n",
    "def import_vr_csv(filename, col_names, primary_div=1, secondary_div=1):\n",
    "    \"\"\"\n",
    "    Reads voltage recording .csv file into a pandas dataframe.\n",
    "    Will convert Primary and Secondary channels to appropriate values if those\n",
    "    channels are in the file.\n",
    "    Returns a dataframe\n",
    "    \"\"\"\n",
    "\n",
    "    df = pd.read_csv(filename, names=col_names, skiprows=1)\n",
    "    #df.Time /= 1000\n",
    "\n",
    "    if \"Primary\" in df.columns:\n",
    "        df.Primary /= primary_div\n",
    "    if \"Secondary\" in df.columns:\n",
    "        df.Secondary /= secondary_div\n",
    "\n",
    "    return df\n",
    "\n",
    "\n",
    "def import_ls_csv(filename):\n",
    "    \"\"\"Reads linescan profile .csv file into pandas dataframe.\n",
    "    \"\"\"\n",
    "\n",
    "    #loads csv file into pandas dataframe\n",
    "    df = pd.read_csv(filename, skipinitialspace=True)\n",
    "    #renames column headers to remove \"(ms)\" from time headers\n",
    "    df.rename(columns=lambda header: header.strip('(ms)'), inplace=True)\n",
    "    #convert time from ms to sec by slicing every other column, since these are the time columns\n",
    "    df.loc[:, ::2] /= 1000\n",
    "\n",
    "    return df\n",
    "\n",
    "\n",
    "def import_folder(folder):\n",
    "    \"\"\"Collapse entire data folder into multidimensional dataframe\n",
    "    Returns a dictionary with \"voltage recording\", \"linescan\" and\n",
    "    \"file attributes\" keys associate with 2 dataframes and a dictionary\n",
    "    (respective).\n",
    "    \"\"\"\n",
    "    vr_xmls = glob(os.path.join(folder, '*_VoltageRecording_*.xml'))\n",
    "\n",
    "    if any(vr_xmls):\n",
    "        data_vr = []\n",
    "        data_ls = []\n",
    "        sweep_list = []\n",
    "        file_attr = {}\n",
    "        output = {}\n",
    "\n",
    "        for i, file in enumerate(vr_xmls):\n",
    "            sweep = 'Sweep' + str(i+1).zfill(4)\n",
    "            sweep_list.append(sweep)\n",
    "            file_vals = parse_xml(file)\n",
    "\n",
    "            if file_vals['voltage recording file'] is not None:\n",
    "                vr_filename = os.path.join(folder,\n",
    "                                           (file_vals['voltage recording file']\n",
    "                                            + '.csv'))\n",
    "                col_names = ['Time'] + file_vals['channels']\n",
    "                primary_divisor = file_vals['primary']['divisor']\n",
    "                #secondary_divisor = file_vals['secondary']['divisor']\n",
    "\n",
    "                df_vr = import_vr_csv(vr_filename, col_names, primary_divisor,1)\n",
    "\n",
    "                data_vr.append(df_vr)\n",
    "\n",
    "            if file_vals['linescan file'] is not None:\n",
    "                ls_filename = os.path.join(folder,\n",
    "                                           (file_vals['linescan file']))\n",
    "\n",
    "                df_ls = import_ls_csv(ls_filename)\n",
    "\n",
    "                data_ls.append(df_ls)\n",
    "\n",
    "            file_attr['File'+str(i+1)] = file_vals\n",
    "\n",
    "        if data_vr:\n",
    "            output[\"voltage recording\"] = pd.concat(data_vr, keys=sweep_list,\n",
    "                                                    names=['Sweep', 'Index'])\n",
    "        elif not data_vr:\n",
    "            output[\"voltage recording\"] = None\n",
    "        if data_ls:\n",
    "            output[\"linescan\"] = pd.concat(data_ls, keys=sweep_list,\n",
    "                                           names=['Sweep', 'Index'])\n",
    "        elif not data_ls:\n",
    "            output[\"linescan\"] = None\n",
    "        output[\"file attributes\"] = file_attr\n",
    "\n",
    "    else:\n",
    "        output = {\"voltage recording\": None, \"linescan\": None,\n",
    "                  \"file attributes\": None}\n",
    "\n",
    "    return output\n",
    "\n",
    "def count_events(start, delta, threshold=0, up=True, trace=None, mark=True):\n",
    "    \"\"\"\n",
    "    Counts the number of events (e.g action potentials (AP)) in the current trace.\n",
    "\n",
    "    Arguments:\n",
    "\n",
    "    start       -- starting time (in ms) to look for events.\n",
    "    delta       -- time interval (in ms) to look for events.\n",
    "    threshold   -- (optional) detection threshold (default = 0).\n",
    "    up          -- (optional) True (default) will look for upward events, False downwards.\n",
    "    trace       -- (optional) zero-based index of the trace in the current channel,\n",
    "                   if None, the current trace is selected.\n",
    "    mark        -- (optional) if True (default), set a mark at the point of threshold crossing\n",
    "    Returns:\n",
    "    An integer with the number of events.\n",
    "\n",
    "    Examples:\n",
    "    count_events(500,1000) returns the number of events found between t=500 ms and t=1500 ms\n",
    "        above 0 in the current trace and shows a stf marker.\n",
    "    count_events(500,1000,0,False,-10,i) returns the number of events found below -10 in the\n",
    "        trace i and shows the corresponding stf markers.\n",
    "    \"\"\"\n",
    "\n",
    "    # sets the current trace or the one given in trace.\n",
    "    if trace is None:\n",
    "        sweep = stf.get_trace_index()\n",
    "    else:\n",
    "        if type(trace) !=int:\n",
    "            print (\"trace argument admits only integers\")\n",
    "            return False\n",
    "        sweep = trace\n",
    "\n",
    "    # set the trace described in sweep\n",
    "    stf.set_trace(sweep)\n",
    "\n",
    "    # transform time into sampling points\n",
    "    dt = stf.get_sampling_interval()\n",
    "\n",
    "    pstart = int( round(start/dt) )\n",
    "    pdelta = int( round(delta/dt) )\n",
    "\n",
    "    # select the section of interest within the trace\n",
    "    selection = stf.get_trace()[pstart:(pstart+pdelta)]\n",
    "\n",
    "    # algorithm to detect events\n",
    "    EventCounter,i = 0,0 # set counter and index to zero\n",
    "\n",
    "    # choose comparator according to direction:\n",
    "    if up:\n",
    "        comp = lambda a, b: a > b\n",
    "    else:\n",
    "        comp = lambda a, b: a < b\n",
    "\n",
    "    # run the loop\n",
    "    while i<len(selection):\n",
    "        if comp(selection[i],threshold):\n",
    "            EventCounter +=1\n",
    "            if mark:\n",
    "                stf.set_marker(pstart+i, selection[i])\n",
    "            while i<len(selection) and comp(selection[i],threshold):\n",
    "                i+=1 # skip values if index in bounds AND until the value is below/above threshold again\n",
    "        else:\n",
    "            i+=1\n",
    "\n",
    "    return EventCounter\n",
    "\n",
    "\n",
    "\n",
    "#measure the numbers of action potentials evoked by current injections of -120pA to 300pA, in a list\n",
    "def spike_list(x):\n",
    "    spike_list = []\n",
    "    for i in range(len(x)): \n",
    "        spike_number = count_events(x[i].Primary)\n",
    "        spike_list.append(spike_number)\n",
    "    return spike_list\n",
    "\n",
    "#measure the rheobase current\n",
    "def rheobaseCal(x):\n",
    "    for i in range(len(x)):\n",
    "        if spike_list(x)[i] >= 1: \n",
    "            rheobase = (i-5)*20\n",
    "            break\n",
    "    return rheobase"
   ]
  },
  {
   "cell_type": "code",
   "execution_count": 3,
   "metadata": {
    "collapsed": true
   },
   "outputs": [],
   "source": []
  },
  {
   "cell_type": "code",
   "execution_count": 4,
   "metadata": {
    "collapsed": true
   },
   "outputs": [],
   "source": []
  },
  {
   "cell_type": "code",
   "execution_count": 5,
   "metadata": {
    "collapsed": true
   },
   "outputs": [],
   "source": []
  },
  {
   "cell_type": "code",
   "execution_count": 6,
   "metadata": {},
   "outputs": [],
   "source": []
  },
  {
   "cell_type": "code",
   "execution_count": 7,
   "metadata": {
    "collapsed": true
   },
   "outputs": [],
   "source": [
    "#measure resting membrane voltage Vm and membrane resistance Rm\n",
    "def analyze_properties(df, bsl_start, bsl_end, start_time, end_time):\n",
    "    if df is not None:\n",
    "        data = df.copy()\n",
    "        Vm = data.Primary[(data.Time >= bsl_start) &\n",
    "                              (data.Time <= bsl_end)].mean()\n",
    "        V_ss = data.Primary[(data.Time >= start_time) &\n",
    "                              (data.Time <= end_time)].mean()\n",
    "\n",
    "        Rm = (V_ss-Vm)/-0.02\n",
    "        result_list = [Vm, Rm]\n",
    "    return result_list"
   ]
  },
  {
   "cell_type": "code",
   "execution_count": 8,
   "metadata": {},
   "outputs": [
    {
     "data": {
      "text/plain": [
       "26"
      ]
     },
     "execution_count": 8,
     "metadata": {},
     "output_type": "execute_result"
    }
   ],
   "source": [
    "#import voltage recording traces in response to current injection steps (from -120 pA, 20 pA increments)\n",
    "vr_folders = glob(os.path.join('/Users/shenyuzhai/Desktop/In_progress 2/', 'cell1-***'))\n",
    "vr_folders = sorted(vr_folders)\n",
    "df_vr_list = []\n",
    "trace_list = []\n",
    "for i, folder in enumerate(vr_folders):\n",
    "        #col_names = ['Time'] + ['Primary']\n",
    "        df_vr = import_folder(vr_folders[i])['voltage recording']\n",
    "        df_vr_list.append(df_vr)\n",
    "        trace = 'celli-' + str(i+1).zfill(3)\n",
    "        trace_list.append(trace)\n",
    "        #aligneddata = pd.concat(df_vr_list, keys=trace_list)\n",
    "\n",
    "len(df_vr_list)  #to check the number of sweeps imported\n"
   ]
  },
  {
   "cell_type": "code",
   "execution_count": 10,
   "metadata": {},
   "outputs": [
    {
     "data": {
      "text/plain": [
       "[<matplotlib.lines.Line2D at 0x119719ac8>]"
      ]
     },
     "execution_count": 10,
     "metadata": {},
     "output_type": "execute_result"
    },
    {
     "data": {
      "image/png": "[encoded data removed]",
      "text/plain": [
       "<matplotlib.figure.Figure at 0x118fd0780>"
      ]
     },
     "metadata": {},
     "output_type": "display_data"
    }
   ],
   "source": [
    "#plot one sweep\n",
    "plt.figure(figsize=(25,8)) \n",
    "plt.plot(df_vr_list[(len(df_vr_list)-2)].Time, df_vr_list[13].Primary)"
   ]
  },
  {
   "cell_type": "code",
   "execution_count": 11,
   "metadata": {},
   "outputs": [
    {
     "ename": "TypeError",
     "evalue": "count_events() missing 1 required positional argument: 'delta'",
     "output_type": "error",
     "traceback": [
      "\u001b[0;31m---------------------------------------------------------------------------\u001b[0m",
      "\u001b[0;31mTypeError\u001b[0m                                 Traceback (most recent call last)",
      "\u001b[0;32m<ipython-input-11-ba67a90ea047>\u001b[0m in \u001b[0;36m<module>\u001b[0;34m()\u001b[0m\n\u001b[0;32m----> 1\u001b[0;31m \u001b[0mresult2\u001b[0m \u001b[0;34m=\u001b[0m \u001b[0mspike_list\u001b[0m\u001b[0;34m(\u001b[0m\u001b[0mdf_vr_list\u001b[0m\u001b[0;34m)\u001b[0m\u001b[0;34m\u001b[0m\u001b[0m\n\u001b[0m\u001b[1;32m      2\u001b[0m \u001b[0;31m#result2\u001b[0m\u001b[0;34m\u001b[0m\u001b[0;34m\u001b[0m\u001b[0m\n",
      "\u001b[0;32m<ipython-input-6-5535154a0378>\u001b[0m in \u001b[0;36mspike_list\u001b[0;34m(x)\u001b[0m\n\u001b[1;32m     71\u001b[0m     \u001b[0mspike_list\u001b[0m \u001b[0;34m=\u001b[0m \u001b[0;34m[\u001b[0m\u001b[0;34m]\u001b[0m\u001b[0;34m\u001b[0m\u001b[0m\n\u001b[1;32m     72\u001b[0m     \u001b[0;32mfor\u001b[0m \u001b[0mi\u001b[0m \u001b[0;32min\u001b[0m \u001b[0mrange\u001b[0m\u001b[0;34m(\u001b[0m\u001b[0mlen\u001b[0m\u001b[0;34m(\u001b[0m\u001b[0mx\u001b[0m\u001b[0;34m)\u001b[0m\u001b[0;34m)\u001b[0m\u001b[0;34m:\u001b[0m\u001b[0;34m\u001b[0m\u001b[0m\n\u001b[0;32m---> 73\u001b[0;31m         \u001b[0mspike_number\u001b[0m \u001b[0;34m=\u001b[0m \u001b[0mcount_events\u001b[0m\u001b[0;34m(\u001b[0m\u001b[0mx\u001b[0m\u001b[0;34m[\u001b[0m\u001b[0mi\u001b[0m\u001b[0;34m]\u001b[0m\u001b[0;34m.\u001b[0m\u001b[0mPrimary\u001b[0m\u001b[0;34m)\u001b[0m\u001b[0;34m\u001b[0m\u001b[0m\n\u001b[0m\u001b[1;32m     74\u001b[0m         \u001b[0mspike_list\u001b[0m\u001b[0;34m.\u001b[0m\u001b[0mappend\u001b[0m\u001b[0;34m(\u001b[0m\u001b[0mspike_number\u001b[0m\u001b[0;34m)\u001b[0m\u001b[0;34m\u001b[0m\u001b[0m\n\u001b[1;32m     75\u001b[0m     \u001b[0;32mreturn\u001b[0m \u001b[0mspike_list\u001b[0m\u001b[0;34m\u001b[0m\u001b[0m\n",
      "\u001b[0;31mTypeError\u001b[0m: count_events() missing 1 required positional argument: 'delta'"
     ]
    }
   ],
   "source": [
    "#measurement number of evoked action potentials in each sweep\n",
    "result2 = spike_list(df_vr_list)\n"
   ]
  },
  {
   "cell_type": "code",
   "execution_count": null,
   "metadata": {},
   "outputs": [],
   "source": [
    "#measure the rheobase\n",
    "rheobaseCal(df_vr_list)"
   ]
  },
  {
   "cell_type": "code",
   "execution_count": null,
   "metadata": {},
   "outputs": [],
   "source": [
    "#measure Vm and Rm using -20pA injection trace; set measurement windows after visual inspection of the trace above; \n",
    "#append rheobase measurement\n",
    "result1 = analyze_properties(df_vr_list[5], 5, 195, 300, 400)\n",
    "result1.append(rheobaseCal(df_vr_list))\n",
    "print (result1)"
   ]
  },
  {
   "cell_type": "code",
   "execution_count": null,
   "metadata": {},
   "outputs": [],
   "source": [
    "#Create a list of injected currents\n",
    "Injection_number = len(df_vr_list)\n",
    "current_list = []\n",
    "for i in range(6):\n",
    "    current = -120-(i*-20)\n",
    "    current_list.append(current)\n",
    "for i in range(7,(Injection_number+1)):\n",
    "    current = -120-(i*-20)\n",
    "    current_list.append(current)\n",
    "print (current_list[-1])"
   ]
  },
  {
   "cell_type": "code",
   "execution_count": null,
   "metadata": {},
   "outputs": [],
   "source": [
    "#plot the current-response curve\n",
    "plt.plot(current_list, result2, 'o', color='black');\n",
    "#plt.ylim(-2, 20)\n",
    "plt.xlim(0,current_list[-1])"
   ]
  },
  {
   "cell_type": "code",
   "execution_count": null,
   "metadata": {},
   "outputs": [],
   "source": [
    "#this is the current-response result\n",
    "pd.DataFrame(result2, index = current_list)"
   ]
  },
  {
   "cell_type": "code",
   "execution_count": null,
   "metadata": {},
   "outputs": [],
   "source": [
    "#this is the Vm, Rm, and Rheobase data\n",
    "pd.DataFrame(result1, index = ['Vm', 'Rm', 'Rheobase'])"
   ]
  },
  {
   "cell_type": "code",
   "execution_count": null,
   "metadata": {
    "collapsed": true
   },
   "outputs": [],
   "source": []
  },
  {
   "cell_type": "code",
   "execution_count": null,
   "metadata": {
    "collapsed": true
   },
   "outputs": [],
   "source": []
  }
 ],
 "metadata": {
  "kernelspec": {
   "display_name": ".venv",
   "language": "python",
   "name": "python3"
  },
  "language_info": {
   "codemirror_mode": {
    "name": "ipython",
    "version": 3
   },
   "file_extension": ".py",
   "mimetype": "text/x-python",
   "name": "python",
   "nbconvert_exporter": "python",
   "pygments_lexer": "ipython3",
   "version": "3.12.3"
  }
 },
 "nbformat": 4,
 "nbformat_minor": 1
}
